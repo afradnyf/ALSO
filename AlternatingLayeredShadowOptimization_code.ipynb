{
 "cells": [
  {
   "cell_type": "markdown",
   "metadata": {
    "id": "ZbSzDSV-LNSi"
   },
   "source": [
    "# Alternating Layered Shadow Optimization"
   ]
  },
  {
   "cell_type": "markdown",
   "metadata": {
    "id": "4Xl-CxvgW4vx"
   },
   "source": [
    "This notebook presents the code to implement the Alternating Layered Shadow Optimization (ALSO) algorithm. Using ALSO, we can implement many Variational Quantum Algorithms (VQA) involving the Alternanting Layered Ansatz (ALA) classically efficiently using the classical shadows of the input quantum states. For any $n$-qubit state $\\rho$, ALA ansatz $U(\\boldsymbol{\\theta})$ and observable $O=\\sum\\limits_{i=1}^M O_i$, where $O_i$ are $k$-local observables, our aim is to optimize the function \n",
    "\n",
    "\\begin{align}\n",
    "    f_{\\rho,O}(\\boldsymbol{\\theta}) = \\text{tr}(O U(\\boldsymbol{\\theta}) \\rho U(\\boldsymbol{\\theta}) ^ {\\dagger}).\n",
    "\\end{align}\n",
    "\n",
    "We optimize the function using iterative optimization algorithms. Each function evaluation is estimated as \n",
    "\\begin{align}\n",
    " \\hat{f}_{\\rho, O}(\\boldsymbol{\\theta}) = \\sum \\limits_{i=1}^M \\text{tr}( U(\\boldsymbol{\\theta}) ^ {\\dagger} O_i U(\\boldsymbol{\\theta}) \\hat{\\rho}_T) = \\sum \\limits_{i=1}^M \\text{tr}( W_{O_i}(\\boldsymbol{\\theta}) \\hat{\\rho}_T),\n",
    "\\end{align}\n",
    "\n",
    "where $\\hat{\\rho}_T $ is the shadow state, and all $ W_{O_i}(\\boldsymbol{\\theta})$ are local observables."
   ]
  },
  {
   "cell_type": "markdown",
   "metadata": {
    "id": "_80JneIrW4vy"
   },
   "source": [
    "The notebook contains code for implementing ALSO and VQA for State Preparation Problem (SPP) as well as Quantum Autoencoder (QA) for $8$ and $30$ qubit instances. Although the majority of the examples use SPSA, in the end, we also provide code for optimization using Powell's method. A few things to keep in mind are:\n",
    "- We highly recommend to keep the paper as a reference while going through the code since many notations are directly used from the paper.\n",
    "- The SPSA algorithm used here has the update rule  \\begin{align} \\boldsymbol{\\theta}^{(k+1)} = \\boldsymbol{\\theta}^{(k)} + a ^ {(k)} g ^ {(k)}.\\end{align}. Here, $a ^ {(k)} = k ^ {-a_\\alpha}$ and the gradient approximation $g ^ {(k)}$ has the form \\begin{align}\n",
    "    g ^ {(k)} = \\frac{f_{\\rho, O}(\\boldsymbol{\\theta} + c^{(k)} \\Delta ^ {(k)}) - f_{\\rho, O}(\\boldsymbol{\\theta} - c^{(k)} \\Delta ^ {(k)})}{2 c ^ {(k)}} \\Delta ^ {(k)}, \\end{align}  where $c ^ {(k)} = k ^ {-c_\\alpha}$ and $ \\Delta ^ {(k)}$ is a vector with each entry selected from $\\{-1,1 \\}$ uniformly.\n",
    "- n_qubits (number of qubits) and n_B variables should be even numbers due to the nature of how they are used inside the functions and defined in ALA.\n",
    "- u_depth (depth of $U(\\boldsymbol{\\theta})$) should be less than n_qubits$/2$. In practice, we require u_depth to be $\\mathcal{O}(\\log n)$, so this condition is usually always satisfied.\n",
    "- We recommend changing the number of shadows being loaded from 500000 to 100000 to see faster, but slightly worse, results.\n"
   ]
  },
  {
   "cell_type": "markdown",
   "metadata": {
    "id": "BYVBbVrHW4vz"
   },
   "source": [
    "# Install Qiskit"
   ]
  },
  {
   "cell_type": "markdown",
   "metadata": {
    "id": "gLfA7Lr-W4vz"
   },
   "source": [
    "Qiskit is required to compute infidelity between $U(\\boldsymbol{\\theta}) ^ {\\dagger} |0\\rangle$ and computational states using Matrix Product State simulator for circuits involving many qubits."
   ]
  },
  {
   "cell_type": "code",
   "execution_count": null,
   "metadata": {
    "id": "1vv2jU7IW4v0"
   },
   "outputs": [],
   "source": [
    "!pip install qiskit"
   ]
  },
  {
   "cell_type": "markdown",
   "metadata": {
    "id": "8qoO9S9wW4v1"
   },
   "source": [
    "# Importing Packages"
   ]
  },
  {
   "cell_type": "code",
   "execution_count": 1,
   "metadata": {
    "id": "7dsyO1aDLRRE"
   },
   "outputs": [],
   "source": [
    "import numpy as np\n",
    "from scipy.optimize import minimize\n",
    "import random\n",
    "import matplotlib.pyplot as plt\n",
    "from qiskit import * \n",
    "from qiskit.providers.aer import AerSimulator\n",
    "import copy\n",
    "from qiskit.providers.aer import QasmSimulator\n",
    "plt.style.use('ggplot')"
   ]
  },
  {
   "cell_type": "markdown",
   "metadata": {
    "id": "Usu3Djr6MD_Y"
   },
   "source": [
    "# Required Functions and Matrix initializations"
   ]
  },
  {
   "cell_type": "markdown",
   "metadata": {
    "id": "6cG9BRFOW4v1"
   },
   "source": [
    "In this section, we define the required gates and operators."
   ]
  },
  {
   "cell_type": "code",
   "execution_count": 2,
   "metadata": {
    "id": "IRQGsaGcMGI6"
   },
   "outputs": [],
   "source": [
    "H_gate = (0.5 ** (0.5)) * np.matrix([[1,1], \n",
    "               [1,-1]])\n",
    "\n",
    "Y_basis = (1/(2 ** 0.5)) * np.matrix([[1 + 0j, -1j], \n",
    "                                      [1 + 0j, 1j]]) # This is the gate HS ^ \\dagger\n",
    "\n",
    "Y_basis_dag = np.conj(Y_basis).T\n",
    "\n",
    "Id = np.matrix([[1 + 0j, 0 + 0j], \n",
    "                [0 + 0j, 1 + 0j]])\n",
    "\n",
    "ket_0 = np.array([1, 0])\n",
    "\n",
    "ket_0_density = np.outer(ket_0, ket_0)\n",
    "\n",
    "clifford_gate_dict = {'H': H_gate, 'Y_basis': Y_basis, 'Y_basis_dag': Y_basis_dag, 'I': Id}\n",
    "\n",
    "# This function returns a numpy matrix of the form R_Z(theta) for any real number theta\n",
    "def R_Z(theta, dtype = 'complex128'):\n",
    "  return np.matrix([[np.exp(-1j * theta/2), 0],[0, np.exp(1j * theta/2)]], dtype=dtype)\n",
    "\n",
    "# This function returns a numpy matrix of the form R_Y(theta) for any real number theta\n",
    "def R_Y(theta, dtype = 'complex128'):\n",
    "  return np.matrix([[np.cos(theta/2), (-1 * np.sin(theta/2))], [np.sin(theta/2), np.cos(theta/2)]], dtype=dtype)\n",
    "\n",
    "# This function returns a numpy matrix of the form R_X(theta) for any real number theta\n",
    "def R_X(theta, dtype = 'complex128'):\n",
    "  return np.matrix([[np.cos(theta/2), ((-1j) * np.sin(theta/2))], [((-1j) * np.sin(theta/2)), np.cos(theta/2)]], dtype=dtype)\n",
    "\n",
    "# This function returns the matrix form of a CNOT gate\n",
    "# 1. is_rev: By default, the returned matrix assumes that that the first qubit is the control qubit. Set this to 1 to make second qubit control.\n",
    "# 2. dtype: Data type of the entries of the returned matrix\n",
    "def CNOT(is_rev=0, dtype='compelx128'):\n",
    "  if is_rev == 0:\n",
    "    return np.matrix([[1 + 0j, 0 + 0j, 0 + 0j, 0 + 0j], \n",
    "                  [0 + 0j, 1 + 0j, 0 + 0j, 0 + 0j],\n",
    "                  [0 + 0j, 0 + 0j, 0 + 0j, 1 + 0j],\n",
    "                  [0 + 0j, 0 + 0j, 1 + 0j, 0 + 0j]], dtype=dtype)\n",
    "    \n",
    "  else:\n",
    "    return np.matrix([[1 + 0j, 0 + 0j, 0 + 0j, 0 + 0j], \n",
    "                      [0 + 0j, 0 + 0j, 0 + 0j, 1 + 0j],\n",
    "                      [0 + 0j, 0 + 0j, 1 + 0j, 0 + 0j],\n",
    "                      [0 + 0j, 1 + 0j, 0 + 0j, 0 + 0j]], dtype=dtype)\n",
    "\n",
    "\n",
    "# This function returns a numipy matrix of a sub circuit with 12 parameters involved.\n",
    "# 1, theta: A 12 dimensional numpy array\n",
    "# 2. dtype: Data type of the entries of the returned matrix\n",
    "def s_gate(theta, dtype='complex128'):\n",
    "  mat = np.eye(4,dtype=dtype)\n",
    "\n",
    "  mat = mat @ CNOT(is_rev=1,dtype=dtype)\n",
    "\n",
    "  mat = mat @ np.kron(R_X(theta[8], dtype=dtype), R_X(theta[11], dtype=dtype)) \n",
    "  mat = mat @ np.kron(R_Y(theta[7], dtype=dtype), R_Y(theta[10], dtype=dtype))\n",
    "  mat = mat @ np.kron(R_X(theta[6], dtype=dtype), R_X(theta[9], dtype=dtype))\n",
    "\n",
    "  mat = mat @ CNOT(dtype=dtype)\n",
    "\n",
    "  mat = mat @ np.kron(R_X(theta[2], dtype=dtype), R_X(theta[5], dtype=dtype)) \n",
    "  mat = mat @ np.kron(R_Y(theta[1], dtype=dtype), R_Y(theta[4], dtype=dtype))\n",
    "  mat = mat @ np.kron(R_X(theta[0], dtype=dtype), R_X(theta[3], dtype=dtype))\n",
    "\n",
    "  return mat\n",
    "\n",
    "# This function returns the inverse of s_gate.\n",
    "# 1, theta: A 12 dimensional numpy array\n",
    "# 2. dtype: Data type of the entries of the returned matrix\n",
    "def s_gate_inverse(theta, dtype='complex128'):\n",
    "  mat = np.eye(4, dtype=dtype)\n",
    "  mat = mat @ np.kron(R_X(-theta[0], dtype=dtype), R_X(-theta[3], dtype=dtype))\n",
    "  mat = mat @ np.kron(R_Y(-theta[1], dtype=dtype), R_Y(-theta[4], dtype=dtype))\n",
    "  mat = mat @ np.kron(R_X(-theta[2], dtype=dtype), R_X(-theta[5], dtype=dtype))\n",
    "  mat = mat @ CNOT(dtype=dtype)\n",
    "\n",
    "  mat = mat @ np.kron(R_X(-theta[6], dtype=dtype), R_X(-theta[9], dtype=dtype))\n",
    "  mat = mat @ np.kron(R_Y(-theta[7], dtype=dtype), R_Y(-theta[10], dtype=dtype))\n",
    "  mat = mat @ np.kron(R_X(-theta[8], dtype=dtype), R_X(-theta[11], dtype=dtype))\n",
    "  mat = mat @ CNOT(is_rev=1, dtype=dtype)\n",
    "\n",
    "  return mat"
   ]
  },
  {
   "cell_type": "markdown",
   "metadata": {
    "id": "KtZuw8LZM4iT"
   },
   "source": [
    "## Tensor operations"
   ]
  },
  {
   "cell_type": "markdown",
   "metadata": {
    "id": "wjk2hpyaW4v3"
   },
   "source": [
    "Here, we define some required tensor operations"
   ]
  },
  {
   "cell_type": "code",
   "execution_count": 3,
   "metadata": {
    "id": "OcqcVueqL_gB"
   },
   "outputs": [],
   "source": [
    "# This function applies a gate on specific qubits of the pure state (any vector) and returns the resulting state using matricisation of the tensor. \n",
    "# 1. state: Numpy array (vector)\n",
    "# 2. qubits_to_act: List of integers (0 is for the first qubit)\n",
    "# 3. gate: Numpy matrix\n",
    "\n",
    "def across_qubits_gate(state, qubits_to_act, gate):\n",
    "  NQubits = int(np.log2(len(state)))\n",
    "\n",
    "  rest_of_qubits = []\n",
    "  for i in range(NQubits):\n",
    "    if i not in qubits_to_act:\n",
    "      rest_of_qubits.append(i)\n",
    "\n",
    "  state_tensor = np.reshape(state, tuple([2] * NQubits))\n",
    "  matricised_tensor = np.reshape(np.ndarray.transpose(state_tensor, qubits_to_act + rest_of_qubits), (2 ** len(qubits_to_act), 2 ** len(rest_of_qubits)))\n",
    "  answer = np.matmul(gate, matricised_tensor)\n",
    "  answer = np.asarray(answer)\n",
    "  p = qubits_to_act + rest_of_qubits\n",
    "\n",
    "  s = np.zeros(len(p), dtype = int)\n",
    "  \n",
    "  for i in list(range(len(p))):\n",
    "      s[p[i]] = i\n",
    "\n",
    "  Z = np.ndarray.transpose(np.reshape(answer, tuple([2] * NQubits)), s)\n",
    "  Z = np.reshape(Z, int(2 ** NQubits))\n",
    "\n",
    "  return(Z)\n",
    "\n",
    "# This function applies a gate on specific qubits of a density matrix (any matrix) and returns the resulting density matrix using matricisation of the tensor. \n",
    "# 1. state: Numpy matrix\n",
    "# 2. qubits_to_act: List of integers (0 is for the first qubit)\n",
    "# 3. gate: Numpy matrix\n",
    "\n",
    "def rotate_state(state, qubits_to_act, gate):\n",
    "  NQubits = int(np.log2(state.shape[0]))\n",
    "  state_vec = state.flatten()\n",
    "  state_vec = across_qubits_gate(state_vec, qubits_to_act, gate)\n",
    "  state_vec = across_qubits_gate(state_vec, [NQubits + q for q in qubits_to_act], np.conj(gate))\n",
    "  state_vec = np.reshape(state_vec, (len(state[0]), len(state[0])))\n",
    "  return state_vec"
   ]
  },
  {
   "cell_type": "markdown",
   "metadata": {
    "id": "mgSL0CMnM6U9"
   },
   "source": [
    "## Ansatz and shadow related"
   ]
  },
  {
   "cell_type": "markdown",
   "metadata": {
    "id": "H1Phsul5W4v3"
   },
   "source": [
    "In this section, we define the main functions required for the simulations. Here, also_feval is the function that uses ALSO to estimate function evaluations. "
   ]
  },
  {
   "cell_type": "code",
   "execution_count": 4,
   "metadata": {
    "id": "hRkJ6NfOM_zx"
   },
   "outputs": [],
   "source": [
    "\n",
    "\n",
    "\n",
    "# This function is used to convert an integer to a list of binary values.\n",
    "# 1. x: Integer value\n",
    "# 2. BitNo: How many binary bits for x's expansion is required\n",
    "def binary(x, BitNo):\n",
    "  format(x, 'b').zfill(BitNo)\n",
    "  Binlist = [int(y) for y in list(format(x, 'b').zfill(BitNo))]\n",
    "  return Binlist\n",
    "\n",
    "\n",
    "# This function applies an ALA on an ensemble and returns the resulting ensemble\n",
    "# 1. ensemble: A list of 2-tuples of the form [(p_1, \\ket{\\psi_1}), (p_2, \\ket{\\psi_2}), ... ,(p_t, \\ket{\\psi_t})]. Here, p_i are probabilities and \\ket{\\psi_i} are pure states in the mixture.\n",
    "# 2. theta_tensor: An order 3 tensor of real parameters\n",
    "# 3. u_depth: Depth of the ALA\n",
    "# 4. n_qubits: Number of qubits involved\n",
    "def u(ensemble, theta_tensor, u_depth, n_qubits):\n",
    "  new_ensemble = []\n",
    "  for pair in ensemble:\n",
    "    theta_position = 0\n",
    "    state = pair[1]\n",
    "    for d in range(u_depth):\n",
    "      for i in range(0, n_qubits, 2):\n",
    "        state = across_qubits_gate(state, [i + (d%2), (i+1 + (d%2))%n_qubits], s_gate(theta_tensor[int(i/2)][d]))\n",
    "    new_ensemble.append((pair[0], state))\n",
    "  return new_ensemble\n",
    "\n",
    "# This function applies the inverse of an ALA on an ensemble and returns the resulting ensemble\n",
    "# 1. ensemble: A list of 2-tuples of the form [(p_1, \\ket{\\psi_1}), (p_2, \\ket{\\psi_2}), ... ,(p_t, \\ket{\\psi_t})]. Here, p_i are probabilities and \\ket{\\psi_i} are pure states in the mixture.\n",
    "# 2. theta_tensor: An order 3 tensor of real parameters\n",
    "# 3. u_depth: Depth of the ALA\n",
    "# 4. n_qubits: Number of qubits involved\n",
    "def u_inverse(ensemble, theta, u_depth, n_qubits):\n",
    "  new_ensemble = []\n",
    "  for pair in ensemble:\n",
    "    theta_position = 0\n",
    "    state = pair[1]\n",
    "    for d in range(u_depth-1, -1, -1):\n",
    "      for i in range(n_qubits-2, -1, -2):\n",
    "        state = across_qubits_gate(state, [i + (d%2), (i+1 + (d%2))%n_qubits], s_gate_inverse(theta[int(i/2)][d]))\n",
    "    new_ensemble.append((pair[0], state))\n",
    "  return new_ensemble\n",
    "\n",
    "# This function applies the inverse of an ALA on an ensemble and returns f_{\\rho,J}, J = \\sum \\limits_{i=1}^n_B \\ket{0}_i\\bra{0}\n",
    "# 1. ensemble: A list of 2-tuples of the form [(p_1, \\ket{\\psi_1}), (p_2, \\ket{\\psi_2}), ... ,(p_t, \\ket{\\psi_t})]. Here, p_i are probabilities and \\ket{\\psi_i} are pure states in the mixture.\n",
    "# 2. theta_tensor: An order 3 tensor of real parameters\n",
    "# 3. u_depth: Depth of the ALA\n",
    "# 4. n_qubits: Number of qubits involved\n",
    "# 5. no_of_copies_per_eval: Number of measurement shots/number of copies per function evaluation. 0 means infinite shots/copies\n",
    "# 6. n_B: Defined in 1.\n",
    "def u_inverse_exp_val(ensemble, theta, u_depth, n_qubits, no_of_copies_per_eval = 0, n_B = 0):\n",
    "  if n_B == 0:\n",
    "    n_B = n_qubits\n",
    "    \n",
    "  final_estimate = 0\n",
    "  ensemble = u_inverse(ensemble, theta, u_depth, n_qubits)\n",
    "    \n",
    "  for pair in ensemble:\n",
    "    state = pair[1]\n",
    "    exp_val = 0\n",
    "    squarer = lambda t: np.abs(t) ** 2\n",
    "    amplitudes = np.array([squarer(xi) for xi in state])\n",
    "    for i in range(n_B):\n",
    "      exp_temp = 0\n",
    "      temp = (2 ** (n_qubits - i - 1))\n",
    "      for j in range(0, 2 ** (i + 1), 2):\n",
    "        exp_temp += sum(amplitudes[j * temp: (j + 1) * temp])\n",
    "\n",
    "      final_estimate += pair[0] * np.real(exp_temp/n_B)\n",
    "  if no_of_copies_per_eval != 0:\n",
    "    return np.mean(np.random.choice(2, no_of_copies_per_eval, p = [1 - final_estimate, final_estimate]))\n",
    "  else:\n",
    "    return final_estimate\n",
    "  \n",
    "    \n",
    "# This function carries out one iteration of SPSA algorithm for standard VQA\n",
    "# 1. ensemble: A list of 2-tuples of the form [(p_1, \\ket{\\psi_1}), (p_2, \\ket{\\psi_2}), ... ,(p_t, \\ket{\\psi_t})]. Here, p_i are probabilities and \\ket{\\psi_i} are pure states in the mixture.\n",
    "# 2. theta_tensor: An order 3 tensor of real parameters\n",
    "# 3. u_depth: Depth of the ALA\n",
    "# 4. n_qubits: Number of qubits involved\n",
    "# 5. c_alpha: SPSA parameter\n",
    "# 6. a_alpha: SPSA parameter\n",
    "# 7. idx: k in SPSA\n",
    "# 8. no_of_copies_per_eval: Number of measurement shots/number of copies per function evaluation. 0 means infinite shots/copies\n",
    "# 9. n_B: Defined in u_inverse_exp_val\n",
    "def single_spsa_update_vqa(ensemble, theta_tensor, u_depth, n_qubits, c_alpha, a_alpha, idx, no_of_copies_per_eval = 0, n_B=0):\n",
    "  delta = np.random.choice([-1, 1], theta_tensor.shape[0] * theta_tensor.shape[1] * theta_tensor.shape[2], p = [1/2] * 2)\n",
    "  delta = np.reshape(delta, (theta_tensor.shape[0], theta_tensor.shape[1], theta_tensor.shape[2]))\n",
    "\n",
    "  c = 1/(idx ** c_alpha)\n",
    "  a = 1/(idx ** a_alpha)\n",
    "\n",
    "  plus = u_inverse_exp_val(ensemble, theta_tensor + (c * delta), u_depth, n_qubits, no_of_copies_per_eval = no_of_copies_per_eval, n_B=n_B)\n",
    "  minus = u_inverse_exp_val(ensemble, theta_tensor - (c * delta), u_depth, n_qubits, no_of_copies_per_eval = no_of_copies_per_eval, n_B=n_B)\n",
    "\n",
    "  return theta_tensor + (a * np.reciprocal((2 * c * delta)/(plus - minus)))\n",
    "\n",
    "\n",
    "\n",
    "# This function computes T Classical Shadows of a mixed state and returns it as a list of lists.\n",
    "# 1. ensemble: A list of 2-tuples of the form [(p_1, \\ket{\\psi_1}), (p_2, \\ket{\\psi_2}), ... ,(p_t, \\ket{\\psi_t})]. Here, p_i are probabilities and \\ket{\\psi_i} are pure states in the mixture.\n",
    "# 2. T: Number of Classical shadows to be computed\n",
    "# 3. verbose: Set 1 if you need print statements reporting the current iteration\n",
    "def generate_shadows(ensemble, T, verbose = 0):\n",
    "  num_qubits = int(np.log2(len(ensemble[0][1])))\n",
    "  shadow_list = []\n",
    "  gate_set_list = ['H', 'Y_basis']\n",
    "  \n",
    "  for j in range(T):\n",
    "    if verbose == 1:\n",
    "      if j % 1000 == 0:\n",
    "        print(\"Currently generating shadow number: {}\".format(j))\n",
    "    temp_mixture = ensemble.copy()\n",
    "    final_prob_array = np.zeros(2 ** num_qubits)\n",
    "    gate_list = []\n",
    "    for i in range(num_qubits):\n",
    "      temp = np.random.choice(3, 1, p=[1/3, 1/3, 1/3])[0]\n",
    "      if temp != 2:\n",
    "        gate = gate_set_list[temp]\n",
    "        gate_list.append((gate, i))\n",
    "        for k in range(len(temp_mixture)):\n",
    "          temp_state = across_qubits_gate(temp_mixture[k][1], [i], clifford_gate_dict[gate])\n",
    "          temp_mixture[k] = (temp_mixture[k][0], temp_state)\n",
    "      else:\n",
    "        gate_list.append(('I', i))\n",
    "    for pair in temp_mixture:\n",
    "      prob_array = np.array([np.abs(pair[1][k]) ** 2 for k in range(len(pair[1]))])\n",
    "      final_prob_array += pair[0] * prob_array\n",
    "    outcome = np.random.choice(2 ** num_qubits, 1, p = list(final_prob_array))[0]\n",
    "    outcome_bin = binary(outcome, num_qubits)\n",
    "    final_outcome = []\n",
    "    for i in range(len(gate_list)):\n",
    "      if gate_list[i][0] == 'Y_basis':\n",
    "        temp1 = clifford_gate_dict['Y_basis_dag']\n",
    "      else:\n",
    "        temp1 = clifford_gate_dict[gate_list[i][0]]\n",
    "      temp = temp1[:, outcome_bin[i]]\n",
    "      final_outcome.append(np.array(3 * np.outer(temp, np.conj(temp))) - Id)\n",
    "    shadow_list.append(final_outcome)\n",
    "  return shadow_list\n",
    "\n",
    "\n",
    "\n",
    "# This function computes all reduced shadows of the form \\hat{\\rho} \\big\\_{A_i}, and returns a flattenned array with all of them concatenated\n",
    "# 1. shadows: Output of generate_shadows\n",
    "# 2. u_depth: Depth of the ALA\n",
    "# 3. n_B: Defined in u_inverse_exp_val\n",
    "def prepping_shadows(shadows, u_depth, n_B = 0):\n",
    "\n",
    "  n_qubits = len(shadows[0])       \n",
    "  if n_B == 0:\n",
    "    n_B = n_qubits\n",
    "  ans = np.zeros((1, ((4 ** u_depth) ** 2) * n_B), dtype = 'complex128')\n",
    "  for single_shadow in shadows: \n",
    "    temp_list = []                                                                                                                                                                                                                                                                                                          \n",
    "    for i in range(0, n_B, 2):\n",
    "      state = np.kron(single_shadow[i], single_shadow[i + 1])\n",
    "      for j in range(1, u_depth):\n",
    "        state = np.kron(single_shadow[(i - j)%n_qubits], state)\n",
    "        state = np.kron(state, single_shadow[(i + 1 + j)%n_qubits])\n",
    "\n",
    "      temp_list.append(state.flatten())\n",
    "      temp_list.append(state.flatten())\n",
    "\n",
    "    ans += np.hstack(temp_list)\n",
    "  return ans/len(shadows)\n",
    "\n",
    "# This function returns the list of indices of the theta_tensor that does not get cancelled in the application of an ALA ansatz\n",
    "# 1. u_depth: Depth of the ALA\n",
    "# 2. n_qubits: Number of qubits involved\n",
    "# 3. n_B: Defined in u_inverse_exp_val\n",
    "def generate_obs_lotr(u_depth, n_qubits, n_B = 0):\n",
    "  main_list = []\n",
    "  if n_B == 0:\n",
    "    n_B = n_qubits\n",
    "  for observable_qubit_index in range(int(n_B/2)):\n",
    "    list_of_thetas_remaining = []\n",
    "\n",
    "    for d in range(u_depth):\n",
    "      k = -1\n",
    "      temp_list = []\n",
    "      for i in range(d + 1):\n",
    "        temp_list.append(((observable_qubit_index - (k * int((i + 1)/2))) % int(n_qubits/2), d))\n",
    "        k *= -1\n",
    "      list_of_thetas_remaining.append(temp_list)\n",
    "    main_list.append(list_of_thetas_remaining)\n",
    "  return main_list\n",
    "\n",
    "# This function generates two observables of the form \\ket{0}_i \\bra{0}, where i = u_depth and u_depth + 1.\n",
    "# 1. u_depth: Depth of the ALA\n",
    "def generate_obs_list(u_depth):\n",
    "\n",
    "  obs1 = np.kron(ket_0_density, Id)\n",
    "  obs2 = np.kron(Id, ket_0_density)\n",
    "\n",
    "  for i in range(1, u_depth):\n",
    "    obs1 = np.kron(Id, obs1)\n",
    "    obs1 = np.kron(obs1, Id)\n",
    "\n",
    "    obs2 = np.kron(Id, obs2)\n",
    "    obs2 = np.kron(obs2, Id)\n",
    "\n",
    "  obs1 = np.array(obs1)\n",
    "  obs2 = np.array(obs2)\n",
    "\n",
    "  return obs1, obs2\n",
    "\n",
    "\n",
    "\n",
    "# This function computes \\hat{f}_{\\rho, J}(theta_tensor) in ALSO\n",
    "# 1. shadow_matrix_prepped: A row vector vcomprising of all the reduced density matrices \\hat{\\rho} \\big|_{A_i}. Output of prepping_shadows\n",
    "# 2. list_of_thetas: Output of generate_obs_lotr\n",
    "# 3. theta_tensor: An order 3 tensor of real parameters\n",
    "# 4. u_depth: Depth of the ALA\n",
    "# 5. n_qubits: Number of qubits involved\n",
    "# 6. obs: Output of generate_obs_lot\n",
    "# 7. dtype: Data type involved in the computations\n",
    "# 8. n_B: Defined in u_inverse_exp_val\n",
    "def also_feval(shadow_matrix_prepped, list_of_thetas, theta_tensor, u_depth, n_qubits, obs, dtype = 'complex128', n_B=0):\n",
    "\n",
    "  if n_B == 0:\n",
    "    n_B = n_qubits\n",
    "  obs_list = []\n",
    "  Iden = np.eye(2, dtype=dtype)\n",
    "  for observable_qubit_index in range(int(n_B/2)):\n",
    "      obs1 = np.copy(obs[0])\n",
    "      obs2 = np.copy(obs[1])\n",
    "      q = 2\n",
    "      for i in range(u_depth):\n",
    "        sign = 1\n",
    "        for j in range(len(list_of_thetas[observable_qubit_index][i])):\n",
    "            if i%2==1:\n",
    "              if j == len(list_of_thetas[observable_qubit_index][i])-2 and i != 0:\n",
    "                obs1 = np.array(np.kron(obs1, Iden))\n",
    "                obs2 = np.array(np.kron(obs2, Iden))\n",
    "                q += 1\n",
    "                s = s_gate(theta_tensor[list_of_thetas[observable_qubit_index][i][j][0], list_of_thetas[observable_qubit_index][i][j][1], :], dtype = dtype)\n",
    "                obs1 = rotate_state(obs1, [q-2, q-1], s)\n",
    "                obs2 = rotate_state(obs2, [q-2, q-1], s)\n",
    "\n",
    "              elif j == len(list_of_thetas[observable_qubit_index][i])-1 and i!= 0:\n",
    "                obs1 = np.kron(Iden, obs1)\n",
    "                obs2 = np.kron(Iden, obs2)\n",
    "                q += 1\n",
    "                s = s_gate(theta_tensor[list_of_thetas[observable_qubit_index][i][j][0], list_of_thetas[observable_qubit_index][i][j][1], :], dtype = dtype)\n",
    "                obs1 = rotate_state(obs1, [0, 1], s)\n",
    "                obs2 = rotate_state(obs2, [0, 1], s)\n",
    "              else:\n",
    "                s = s_gate(theta_tensor[list_of_thetas[observable_qubit_index][i][j][0], list_of_thetas[observable_qubit_index][i][j][1], :], dtype = dtype)\n",
    "                obs1 = rotate_state(obs1, [int((q-1)/2) + (sign * 2 * int((j+1)/2)) + (i%2), int(q/2) + (sign * 2 * int((j+1)/2)) + (i%2)], s)\n",
    "                obs2 = rotate_state(obs2, [int((q-1)/2) + (sign * 2 * int((j+1)/2)) + (i%2), int(q/2) + (sign * 2 * int((j+1)/2)) + (i%2)], s)\n",
    "                sign *= -1\n",
    "    \n",
    "            else:\n",
    "              if j == len(list_of_thetas[observable_qubit_index][i])-1 and i != 0:\n",
    "                obs1 = np.array(np.kron(obs1, Iden))\n",
    "                obs2 = np.array(np.kron(obs2, Iden))\n",
    "                q += 1\n",
    "                s = s_gate(theta_tensor[list_of_thetas[observable_qubit_index][i][j][0], list_of_thetas[observable_qubit_index][i][j][1], :], dtype = dtype)                \n",
    "\n",
    "                obs1 = rotate_state(obs1, [q-2, q-1], s)\n",
    "                obs2 = rotate_state(obs2, [q-2, q-1], s)\n",
    "\n",
    "              elif j == len(list_of_thetas[observable_qubit_index][i])-2 and i!= 0:\n",
    "                obs1 = np.kron(Iden, obs1)\n",
    "                obs2 = np.kron(Iden, obs2)\n",
    "                q += 1\n",
    "                s = s_gate(theta_tensor[list_of_thetas[observable_qubit_index][i][j][0], list_of_thetas[observable_qubit_index][i][j][1], :], dtype = dtype)\n",
    "                obs1 = rotate_state(obs1, [0, 1], s)\n",
    "                obs2 = rotate_state(obs2, [0, 1], s)\n",
    "              else:\n",
    "                s = s_gate(theta_tensor[list_of_thetas[observable_qubit_index][i][j][0], list_of_thetas[observable_qubit_index][i][j][1], :], dtype = dtype)\n",
    "                obs1 = rotate_state(obs1, [int((q-1)/2) + (sign * 2 * int((j+1)/2)), int(q/2) + (sign * 2 * int((j+1)/2))], s)\n",
    "                obs2 = rotate_state(obs2, [int((q-1)/2) + (sign * 2 * int((j+1)/2)), int(q/2) + (sign * 2 * int((j+1)/2))], s)\n",
    "                sign *= -1\n",
    "\n",
    "                \n",
    "      obs_list.append(obs1.flatten())\n",
    "      obs_list.append(obs2.flatten())\n",
    "    \n",
    "  obs_matrix = np.hstack(obs_list).T\n",
    "  exp_list = np.real(np.matmul(np.conj(shadow_matrix_prepped), obs_matrix)/n_B)\n",
    "  return exp_list[0]\n",
    "\n",
    "\n",
    "# This function carries out one iteration of SPSA algorithm for ALSO\n",
    "# 1. shadow_matrix_prepped: Output of prepping_shadows\n",
    "# 2. list_of_thetas: Output of generate_obs_lotr\n",
    "# 3. theta_tensor: An order 3 tensor of real parameters\n",
    "# 4. u_depth: Depth of the ALA\n",
    "# 5. n_qubits: Number of qubits involved\n",
    "# 6. obs: Output of generate_obs_lot\n",
    "# 7. c_alpha: SPSA parameter\n",
    "# 8. a_alpha: SPSA parameter\n",
    "# 9. idx: k in SPSA\n",
    "# 10. dtype: Data type involved in the computations\n",
    "# 11. n_B: Defined in u_inverse_exp_val\n",
    "def single_spsa_update_also(shadow_matrix_prepped, list_of_thetas, theta_tensor, u_depth, n_qubits, obs, c_alpha, a_alpha, idx, dtype = 'complex128', n_B=0):\n",
    "  delta = np.random.choice([-1, 1], theta_tensor.shape[0] * theta_tensor.shape[1] * theta_tensor.shape[2], p = [1/2] * 2)\n",
    "  delta = np.reshape(delta, (theta_tensor.shape[0], theta_tensor.shape[1], theta_tensor.shape[2]))\n",
    "\n",
    "  c = 1/(idx ** c_alpha)\n",
    "  a = 1/(idx ** a_alpha)\n",
    "\n",
    "  plus = also_feval(shadow_matrix_prepped, list_of_thetas, theta_tensor + (c * delta), u_depth, n_qubits, obs, dtype = dtype, n_B=n_B)\n",
    "  minus = also_feval(shadow_matrix_prepped, list_of_thetas, theta_tensor - (c * delta), u_depth, n_qubits, obs, dtype = dtype, n_B=n_B)\n",
    "\n",
    "  return theta_tensor + (a * np.reciprocal((2 * c * delta)/(plus - minus)))\n",
    "\n",
    "\n",
    "# This function generates a data structure that allows for efficient simulation of large circuits (30 qubit) with computational basis states being input to ALAs.\n",
    "# 1. bit_string: A bit string given as a list \n",
    "def bit_string_state_prepped(bit_string):\n",
    "  temp_list = []                                                                                                                                                                                                                                                                                                          \n",
    "  for i in range(0, n_qubits, 2):\n",
    "    state = np.kron(Id[bit_string[i]], Id[bit_string[i+1]])\n",
    "    for j in range(1, u_depth):\n",
    "      state = np.kron(Id[bit_string[(i - j)%n_qubits]], state)\n",
    "\n",
    "      state = np.kron(state, Id[bit_string[(i + 1 + j)%n_qubits]])\n",
    "    temp_list.append(np.array(state)[0])\n",
    "\n",
    "  return temp_list\n",
    "\n",
    "# This function returns a list of qubits that the subcircuits of an ALA that does not cancel off acts on\n",
    "# 1. u_depth: Depth of the ALA\n",
    "# 2. n_qubits: Number of qubits involved\n",
    "def generate_loqta(u_depth, n_qubits):\n",
    "  list_of_qubits_to_act = []\n",
    "  for j in range(u_depth):\n",
    "    k = -1\n",
    "    temp_list_index = []\n",
    "    for i in range(j + 1):\n",
    "      temp_list_index.append([(u_depth - 1 - (k * 2 * int((i + 1)/2)) + (j % 2)) % n_qubits, (u_depth - 1 - (k * 2 * int((i + 1)/2)) + 1 + (j % 2)) % n_qubits])\n",
    "      k *= -1\n",
    "    list_of_qubits_to_act.append(temp_list_index)\n",
    "  return list_of_qubits_to_act\n",
    "\n",
    "# This function applies the inverse of an ALA on an ensemble and returns f_{\\rho,J}, J = \\sum \\limits_{i=1}^n_B \\ket{0}_i\\bra{0}. Suitable for large circuits.\n",
    "# 1. prepped_bit_string_ensemble: Output of bit_string_state_prepped\n",
    "# 2. list_of_qubits_to_act: outpuO of generate_loqta\n",
    "# 3. list_of_thetas: outpuO of generate_obs_lotr\n",
    "# 4. theta_tensor: An order 3 tensor of real parameters\n",
    "# 5. u_depth: Depth of the ALA\n",
    "# 6. n_qubits: Number of qubits involved\n",
    "# 7. no_of_copies_per_eval: Number of measurement shots/number of copies per function evaluation. 0 means infinite shots/copies.\n",
    "# 8. n_B: Defined in u_inverse_exp_val\n",
    "def u_inverse_exp_val_efficient(prepped_bit_string_ensemble, list_of_qubits_to_act, list_of_thetas, theta_tensor, u_depth, n_qubits, no_of_copies_per_eval = 0, n_B = 0):\n",
    "    if n_B == 0:\n",
    "      n_B = n_qubits\n",
    "    final_exp = 0\n",
    "    for pair in prepped_bit_string_ensemble:\n",
    "\n",
    "      for observable_qubit_index in range(int(n_B/2)):\n",
    "\n",
    "        state = pair[1][observable_qubit_index]\n",
    "        for i in range(u_depth-1,-1,-1):\n",
    "          for j in range(len(list_of_thetas[observable_qubit_index][i])-1,-1,-1):\n",
    "            s = s_gate_inverse(theta_tensor[list_of_thetas[observable_qubit_index][i][j][0], list_of_thetas[observable_qubit_index][i][j][1], :])\n",
    "            state = across_qubits_gate(state, list_of_qubits_to_act[i][j], s)\n",
    "\n",
    "        squarer = lambda t: np.abs(t) ** 2\n",
    "        amplitudes = np.array([squarer(xi) for xi in state])\n",
    "\n",
    "        for i in range(list_of_qubits_to_act[0][0][0], list_of_qubits_to_act[0][0][1] + 1):\n",
    "          exp_temp = 0\n",
    "          temp = (2 ** ((2 * u_depth) - i - 1))\n",
    "          for j in range(0, 2 ** (i + 1), 2):\n",
    "            exp_temp += sum(amplitudes[j * temp: (j + 1) * temp])\n",
    "\n",
    "          final_exp += pair[0] * (exp_temp/n_B)\n",
    "    if no_of_copies_per_eval != 0:\n",
    "      return np.mean(np.random.choice(2, no_of_copies_per_eval, p = [1 - final_exp, final_exp]))\n",
    "\n",
    "    else:\n",
    "      return final_exp\n",
    "\n",
    "\n",
    "# This function carries out one iteration of SPSA algorithm for standard VQA. Suitable when n_qubits is large and input is a bit string.\n",
    "# 1. prepped_bit_string_ensemble: Output of bit_string_state_prepped\n",
    "# 2. list_of_qubits_to_act: Output of generate_loqta\n",
    "# 3. list_of_thetas: Output of generate_obs_lotr\n",
    "# 4. theta_tensor: An order 3 tensor of real parameters\n",
    "# 5. u_depth: Depth of the ALA\n",
    "# 6. n_qubits: Number of qubits involved\n",
    "# 7. c_alpha: SPSA parameter\n",
    "# 8. a_alpha: SPSA parameter\n",
    "# 9. idx: k in SPSA\n",
    "# 10. no_of_copies_per_eval: Number of measurement shots/number of copies per function evaluation. 0 means infinite shots/copies.\n",
    "# 11. n_B: Defined in u_inverse_exp_val\n",
    "def single_spsa_update_vqa_efficient(prepped_bit_string_ensemble, list_of_qubits_to_act, list_of_thetas, theta_tensor, u_depth, n_qubits, c_alpha, a_alpha, idx, no_of_copies_per_eval = 0, n_B = 0):\n",
    "  delta = np.random.choice([-1, 1], theta_tensor.shape[0] * theta_tensor.shape[1] * theta_tensor.shape[2], p = [1/2] * 2)\n",
    "  delta = np.reshape(delta, (theta_tensor.shape[0], theta_tensor.shape[1], theta_tensor.shape[2]))\n",
    "\n",
    "  c = 1/(idx ** c_alpha)\n",
    "  a = 1/(idx ** a_alpha)\n",
    "\n",
    "  plus = u_inverse_exp_val_efficient(prepped_bit_string_ensemble, list_of_qubits_to_act, list_of_thetas, theta_tensor + (c * delta), u_depth, n_qubits, no_of_copies_per_eval = no_of_copies_per_eval, n_B = n_B)\n",
    "  minus = u_inverse_exp_val_efficient(prepped_bit_string_ensemble, list_of_qubits_to_act, list_of_thetas, theta_tensor - (c * delta), u_depth, n_qubits, no_of_copies_per_eval = no_of_copies_per_eval, n_B = n_B)\n",
    "\n",
    "  return theta_tensor + (a * np.reciprocal((2 * c * delta)/(plus - minus)))\n",
    "\n",
    "\n",
    "# This function generates a set of one qubit operators from which shadows of bit string state can be generated very fast\n",
    "# 1. dtype: Data type of the entries of the matrices involved\n",
    "def prepare_sampling_set(dtype = 'complex128'):\n",
    "    sampling_set = []\n",
    "    arr = (3 * (H_gate[:,0] @ np.conj(H_gate[:,0]).T)) - np.eye(2)\n",
    "    sampling_set.append(arr.astype(dtype))\n",
    "    arr = (3 * (H_gate[:,1] @ np.conj(H_gate[:,1]).T)) - np.eye(2)\n",
    "    sampling_set.append(arr.astype(dtype))\n",
    "    arr = (3 * (Y_basis_dag[:,0] @ np.conj(Y_basis_dag[:,0]).T)) - np.eye(2)\n",
    "    sampling_set.append(arr.astype(dtype))\n",
    "    arr = (3 * (Y_basis_dag[:,1] @ np.conj(Y_basis_dag[:,1]).T)) - np.eye(2)\n",
    "    sampling_set.append(arr.astype(dtype))\n",
    "    arr = (3 * (Id[:,0] @ np.conj(Id[:,0]).T)) - np.eye(2)\n",
    "    sampling_set.append(arr.astype(dtype))\n",
    "    arr = (3 * (Id[:,1] @ np.conj(Id[:,1]).T)) - np.eye(2)\n",
    "    sampling_set.append(arr.astype(dtype))\n",
    "\n",
    "    return sampling_set\n",
    "\n",
    "# This function computes T Classical Shadows of a computational basis state given as a bit string and returns it as a list of lists.\n",
    "# 1. bit_string: A bit string given as a list \n",
    "# 2. T: Number_of_shadows \n",
    "# 3. dtype: Data type of the entries of the matrices involved\n",
    "def bit_string_shadows(bit_string, T, dtype = 'complex128'):\n",
    "  list_of_shadows = []\n",
    "    \n",
    "  n_qubits = len(bit_string)\n",
    "  sampling_set = prepare_sampling_set(dtype=dtype)\n",
    "\n",
    "  for i in range(n_qubits):\n",
    "    print(\"Current Qubit: {}\".format(i))\n",
    "    if bit_string[i] == 0:\n",
    "      list_of_shadows.append(random.choices(sampling_set, weights = [1/6, 1/6, 1/6, 1/6, 1/3, 0], k = T))\n",
    "\n",
    "    else:\n",
    "      list_of_shadows.append(random.choices(sampling_set, weights = [1/6, 1/6, 1/6, 1/6, 0, 1/3], k = T))\n",
    "\n",
    "  print(\"Transpoing Lists\")\n",
    "  list_of_shadows = list(map(list, zip(*list_of_shadows)))\n",
    "  return list_of_shadows\n",
    "\n",
    "# This function computes the reduced shadows (similar to shadows_prepped) but specifically for QAE for large number of qubits.\n",
    "# 1. shadows_list: Output of bit_string_shadows\n",
    "# 2. u_depth: Depth of the ALA\n",
    "# 3. n_B: Defined in u_inverse_exp_val\n",
    "def prepping_shadows_30q_qae(shadows_list, u_depth, n_B = 0):\n",
    "  n_qubits = len(shadows_list[0][0])       \n",
    "  if n_B == 0:\n",
    "    n_B = n_qubits\n",
    "  ans = np.zeros((1, ((4 ** u_depth) ** 2) * n_B), dtype = 'complex128')\n",
    "  for k in range(len(shadows_list[0])):\n",
    "    s = np.random.choice(2,p=[1/3,2/3])\n",
    "    if k%1000 == 0:\n",
    "      print(\"Current shadow: {}\".format(k))\n",
    "    temp_list = []                                                                                                                                                                                                                                                                                                          \n",
    "    for i in range(0, n_B, 2):\n",
    "      state = np.kron(shadows_list[s][k][i], shadows_list[s][k][i + 1])\n",
    "      for j in range(1, u_depth):\n",
    "        state = np.kron(shadows_list[s][k][(i - j)%n_qubits], state)\n",
    "        state = np.kron(state, shadows_list[s][k][(i + 1 + j)%n_qubits])\n",
    "\n",
    "      temp_list.append(state.flatten())\n",
    "      temp_list.append(state.flatten())\n",
    "\n",
    "    ans += np.hstack(temp_list)\n",
    "  return ans/len(shadows_list[0])\n",
    "\n",
    "\n",
    "\n",
    "\n"
   ]
  },
  {
   "cell_type": "markdown",
   "metadata": {
    "id": "MpQ2bdyOW4v6"
   },
   "source": [
    "## Qiskit related"
   ]
  },
  {
   "cell_type": "markdown",
   "metadata": {
    "id": "lITf_w2cW4v6"
   },
   "source": [
    "Here, we define the functions required for the Matrix Product State simulations"
   ]
  },
  {
   "cell_type": "code",
   "execution_count": 5,
   "metadata": {
    "id": "K7Pb_wuNW4v6"
   },
   "outputs": [],
   "source": [
    "# This function applies the inverse of s sub circuit to a qiskit circuit\n",
    "# 1. qc: Qiskit quantum circuit object\n",
    "# 2. q1: Qubit 1\n",
    "# 3. q2: Qubit 2\n",
    "# 4. theta: A 12 dimensional numpy array\n",
    "def s_ansatz_inverse_qiskit(qc, q1, q2, theta):\n",
    "  qc.cnot(q2, q1)\n",
    "  qc.rx(-theta[11], q2)\n",
    "  qc.ry(-theta[10], q2)\n",
    "  qc.rx(-theta[9], q2)\n",
    "\n",
    "  qc.rx(-theta[8], q1)\n",
    "  qc.ry(-theta[7], q1)\n",
    "  qc.rx(-theta[6], q1)\n",
    "\n",
    "  qc.cnot(q1, q2)\n",
    "\n",
    "  qc.rx(-theta[5], q2)\n",
    "  qc.ry(-theta[4], q2)\n",
    "  qc.rx(-theta[3], q2)\n",
    "\n",
    "  qc.rx(-theta[2], q1)\n",
    "  qc.ry(-theta[1], q1)\n",
    "  qc.rx(-theta[0], q1)\n",
    "  return qc\n",
    "\n",
    "# This function applies the s sub circuit to a qiskit circuit\n",
    "# 1. qc: Qiskit quantum circuit object\n",
    "# 2. q1: Qubit 1\n",
    "# 3. q2: Qubit 2\n",
    "# 4. theta: A 12 dimensional numpy array\n",
    "def s_ansatz_qiskit(qc, q1, q2, theta):\n",
    "  qc.rx(theta[0], q1)\n",
    "  qc.ry(theta[1], q1)\n",
    "  qc.rx(theta[2], q1)\n",
    "  \n",
    "  qc.rx(theta[3], q2)\n",
    "  qc.ry(theta[4], q2)\n",
    "  qc.rx(theta[5], q2)\n",
    "\n",
    "  qc.cnot(q1, q2)\n",
    "\n",
    "  qc.rx(theta[6], q1)\n",
    "  qc.ry(theta[7], q1)\n",
    "  qc.rx(theta[8], q1)\n",
    "  \n",
    "  qc.rx(theta[9], q2)\n",
    "  qc.ry(theta[10], q2)\n",
    "  qc.rx(theta[11], q2)\n",
    "\n",
    "  qc.cnot(q2, q1)\n",
    "  return qc\n",
    "\n",
    "# This function applies an ALA ansatz to a qiskit circuit\n",
    "# 1. qc: Qiskit quantum circuit object\n",
    "# 2. theta_tensor: An order 3 tensor of real parameters\n",
    "# 3. u_depth: Depth of the ALA\n",
    "# 4. n_qubits: Number of qubits involved\n",
    "def u_inverse_qiskit(qc, theta_tensor, u_depth, n_qubits):\n",
    "  for d in range(u_depth-1, -1, -1):\n",
    "    for i in range(n_qubits-2, -1, -2):\n",
    "      qc = s_ansatz_inverse_qiskit(qc, i + (d%2), (i+1 + (d%2))%n_qubits, theta_tensor[int(i/2)][d])\n",
    "  return qc\n",
    "\n",
    "\n",
    "# This function computes the fidelity between a computational basis state and output of the inverse of an ALA ansatz\n",
    "# 1. bit_string: A bit string given as a list \n",
    "# 2. theta_tensor: An order 3 tensor of real parameters\n",
    "def fidelity_bs(bit_string, theta_tensor):\n",
    "    u_depth = 4\n",
    "    n_qubits = len(bit_string)\n",
    "    simulator = AerSimulator(method='matrix_product_state')\n",
    "\n",
    "    qr = QuantumRegister(n_qubits)\n",
    "    qc = QuantumCircuit(qr)\n",
    "    for i in range(n_qubits):\n",
    "        if bit_string[i] == 1:\n",
    "            qc.x(i)\n",
    "\n",
    "    qc = u_inverse_qiskit(qc, theta_tensor, u_depth, n_qubits)\n",
    "    qc.save_matrix_product_state(label='my_mps')\n",
    "\n",
    "    tcirc = transpile(qc, simulator)\n",
    "    result = simulator.run(tcirc).result()\n",
    "    data = result.data(0)\n",
    "    \n",
    "    mat = np.matrix([[1]])\n",
    "    for i in range(n_qubits):\n",
    "        if i != n_qubits - 1:\n",
    "            mat =  mat @ data['my_mps'][0][i][0]\n",
    "            mat = np.multiply(mat, data['my_mps'][1][i])\n",
    "        else:\n",
    "            mat = mat @ data['my_mps'][0][i][0]\n",
    "\n",
    "    return np.abs(mat[0,0])"
   ]
  },
  {
   "cell_type": "markdown",
   "metadata": {
    "id": "Hs2nJ_L4RHT8"
   },
   "source": [
    "# 8 Qubit"
   ]
  },
  {
   "cell_type": "markdown",
   "metadata": {
    "id": "t7SXBHAsW4v7"
   },
   "source": [
    "In this section, we provide code to implement ALSO and VQA on $8$ qubit SPP and QA problems."
   ]
  },
  {
   "cell_type": "markdown",
   "metadata": {
    "id": "Z94hmch3TlVn"
   },
   "source": [
    "## SPP"
   ]
  },
  {
   "cell_type": "code",
   "execution_count": null,
   "metadata": {
    "id": "z7HQSCK6W4v8"
   },
   "outputs": [],
   "source": [
    "\n",
    "n_qubits =  8 # Number of qubits the state should be prepared on \n",
    "\n",
    "u_depth = 3 # Depth of U(\\theta)\n",
    "\n",
    "answer_tensor = np.random.uniform(1, 2 * np.pi, (int(n_qubits/2), u_depth, 12)) # U(answer_tensor) \\ket{0} is the state whose preparation circuit we want to find.\n",
    "theta_tensor = np.random.uniform(-2 * np.pi, 2 * np.pi, (int(n_qubits/2), u_depth, 12)) # Initialize random values as parameters\n",
    "\n",
    "\n"
   ]
  },
  {
   "cell_type": "code",
   "execution_count": null,
   "metadata": {
    "id": "l1nmF11xW4v8"
   },
   "outputs": [],
   "source": [
    "\n",
    "no_of_iter = 3000 # Total number of iterations in SPSA\n",
    "\n",
    "c_alpha = 0.5 # SPSA parameter\n",
    "a_alpha = 0.5 # SPSA parameter"
   ]
  },
  {
   "cell_type": "code",
   "execution_count": null,
   "metadata": {
    "id": "uVceJOgdW4v8"
   },
   "outputs": [],
   "source": [
    "# Store the state U(answer_tensor) \\ket{0}\n",
    "state = np.array([1] + [0] * ((2 ** n_qubits) - 1))\n",
    "ensemble = [(1, state)]\n",
    "ensemble = u(ensemble, answer_tensor, u_depth, n_qubits) \n"
   ]
  },
  {
   "cell_type": "markdown",
   "metadata": {
    "id": "9gCY3z2DTovE"
   },
   "source": [
    "### ALSO"
   ]
  },
  {
   "cell_type": "code",
   "execution_count": null,
   "metadata": {
    "id": "SpzmG0hwU_WO",
    "scrolled": true
   },
   "outputs": [],
   "source": [
    "shadows = generate_shadows(ensemble, 500000, verbose = 1) # Generate the shadows\n",
    "shadows_prepped = prepping_shadows(shadows, u_depth) # Compute the reduced shadow states"
   ]
  },
  {
   "cell_type": "code",
   "execution_count": null,
   "metadata": {
    "code_folding": [],
    "id": "r09Bek57W4v9"
   },
   "outputs": [],
   "source": [
    "# This function implements the SPSA algorithm to solve SPP using ALSO\n",
    "# 1. shadow_prepped: Output of prepping_shadows\n",
    "# 2. theta_tensor: An order 3 tensor of real parameters\n",
    "# 3. ensemble: A list of 2-tuples of the form [(p_1, \\ket{\\psi_1}), (p_2, \\ket{\\psi_2}), ... ,(p_t, \\ket{\\psi_t})]. Here, p_i are probabilities and \\ket{\\psi_i} are pure states in the mixture.\n",
    "# 4. u_depth: depth of the ALA\n",
    "# 5. n_qubits: Number of qubits involved\n",
    "# 6. c_alpha: SPSA parameter\n",
    "# 7. a_alpha: SPSA parameter\n",
    "# 8. no_of_iter: Total number of iterations\n",
    "# 9. dtype: Data type involved in the computations\n",
    "# 10. interval: At what intervals should the infidelities be computed\n",
    "def also_8q_spp(shadows_prepped, theta_tensor, ensemble, u_depth, n_qubits, c_alpha, a_alpha, no_of_iter, dtype='complex128', interval = 100):\n",
    "    iter_no = 1\n",
    "    infid_list = []\n",
    "    theta_list = []\n",
    "    obs1 = np.array(np.kron(np.matrix([[1,0],[0,0]]), np.eye(2))).astype(dtype)\n",
    "    obs2 = np.array(np.kron(np.eye(2), np.matrix([[1,0],[0,0]]))).astype(dtype)\n",
    "    obs = [obs1, obs2]\n",
    "    list_of_thetas = generate_obs_lotr(u_depth, n_qubits)\n",
    "\n",
    "    while iter_no < no_of_iter + 1:\n",
    "\n",
    "        theta_tensor = single_spsa_update_also(shadows_prepped, list_of_thetas, theta_tensor, u_depth, n_qubits, obs, c_alpha, a_alpha, iter_no, dtype = dtype)\n",
    "        if iter_no % interval == 0:\n",
    "            print(\"Current iteration: {}\".format(iter_no))\n",
    "            init_state = np.array([1] + [0] * ((2 ** n_qubits) - 1))\n",
    "            init_state = u([(1,init_state)], theta_tensor, u_depth, n_qubits)[0][1]\n",
    "            infidelity = 1-np.abs(np.dot(np.conj(init_state), ensemble[0][1]))\n",
    "            print(\"Current infidelity: {}\".format(infidelity))\n",
    "            infid_list.append(infidelity)\n",
    "            theta_list.append(theta_tensor)\n",
    "\n",
    "        iter_no += 1\n",
    "    return infid_list, theta_list"
   ]
  },
  {
   "cell_type": "code",
   "execution_count": null,
   "metadata": {
    "id": "i9ipR2RFW4v9"
   },
   "outputs": [],
   "source": [
    "infid_list, theta_list = also_8q_spp(shadows_prepped, theta_tensor, ensemble, u_depth, n_qubits, c_alpha, a_alpha, no_of_iter)"
   ]
  },
  {
   "cell_type": "code",
   "execution_count": null,
   "metadata": {
    "id": "c1L9ApP0W4v9"
   },
   "outputs": [],
   "source": [
    "# Plot the results\n",
    "\n",
    "plt.figure(figsize=(12,6))\n",
    "plt.rcParams.update({'font.size': 20})\n",
    "\n",
    "plt.plot(list(range(1, len(infid_list) + 1)), infid_list)\n",
    "\n",
    "plt.yticks(np.arange(0,1.1,0.1))\n",
    "plt.legend(loc=\"lower right\")\n",
    "plt.xlabel(\"Iteration number\")\n",
    "plt.ylabel(\"Infidelity\")\n",
    "plt.show()"
   ]
  },
  {
   "cell_type": "markdown",
   "metadata": {
    "id": "kBeOPD5qW4v-"
   },
   "source": [
    "### VQA"
   ]
  },
  {
   "cell_type": "code",
   "execution_count": null,
   "metadata": {
    "id": "1hqTZOgbW4v-"
   },
   "outputs": [],
   "source": [
    "# This function implements the SPSA algorithm to solve SPP using standard VQA\n",
    "# 1. ensemble: A list of 2-tuples of the form [(p_1, \\ket{\\psi_1}), (p_2, \\ket{\\psi_2}), ... ,(p_t, \\ket{\\psi_t})]. Here, p_i are probabilities and \\ket{\\psi_i} are pure states in the mixture.\n",
    "# 2. theta_tensor: An order 3 tensor of real parameters\n",
    "# 3. u_depth: Depth of the ALA\n",
    "# 4. n_qubits: Number of qubits involved\n",
    "# 5. c_alpha: SPSA parameter\n",
    "# 6. a_alpha: SPSA parameter\n",
    "# 7. no_of_iter: Total number of iterations\n",
    "# 8. no_of_copies_per_eval: Number of measurement shots/number of copies per function evaluation. 0 means infinite shots/copies.\n",
    "# 9. interval: At what intervals should the infidelities be computed\n",
    "def vqa_8q_spp(ensemble, theta_tensor, u_depth, n_qubits, c_alpha, a_alpha, no_of_iter, no_of_copies_per_eval = 0, interval=100):\n",
    "    iter_no = 1\n",
    "    infid_list = []\n",
    "    theta_list = []\n",
    "    while iter_no < no_of_iter + 1:\n",
    "\n",
    "        theta_tensor = single_spsa_update_vqa(ensemble, theta_tensor, u_depth, n_qubits, c_alpha, a_alpha, iter_no, no_of_copies_per_eval = no_of_copies_per_eval)\n",
    "        if iter_no % interval == 0:\n",
    "            print(\"Current iteration: {}\".format(iter_no))\n",
    "            init_state = np.array([1] + [0] * ((2 ** n_qubits) - 1))\n",
    "            init_state = u([(1,init_state)], theta_tensor, u_depth, n_qubits)[0][1]\n",
    "            infidelity = 1-np.abs(np.dot(np.conj(init_state), ensemble[0][1]))\n",
    "            print(\"Current infidelity: {}\".format(infidelity))\n",
    "            infid_list.append(infidelity)\n",
    "            theta_list.append(theta_tensor)\n",
    "        iter_no += 1\n",
    "    return infid_list, theta_list"
   ]
  },
  {
   "cell_type": "code",
   "execution_count": null,
   "metadata": {
    "id": "LojPKPobW4v-"
   },
   "outputs": [],
   "source": [
    "infid_list, theta_list = vqa_8q_spp(ensemble, theta_tensor, u_depth, n_qubits, c_alpha, a_alpha, no_of_iter, no_of_copies_per_eval = 0)"
   ]
  },
  {
   "cell_type": "code",
   "execution_count": null,
   "metadata": {
    "id": "uMJ8MSUKW4v-"
   },
   "outputs": [],
   "source": [
    "# Plot the results\n",
    "\n",
    "plt.figure(figsize=(12,6))\n",
    "plt.rcParams.update({'font.size': 20})\n",
    "\n",
    "plt.plot(list(range(1, len(infid_list) + 1)), infid_list)\n",
    "\n",
    "plt.yticks(np.arange(0,0.6,0.1))\n",
    "plt.legend(loc=\"lower right\")\n",
    "plt.xlabel(\"Iteration number\")\n",
    "plt.ylabel(\"Infidelity\")\n",
    "plt.show()"
   ]
  },
  {
   "cell_type": "markdown",
   "metadata": {
    "id": "YGOKpBFiW4v-"
   },
   "source": [
    "## QA"
   ]
  },
  {
   "cell_type": "code",
   "execution_count": null,
   "metadata": {
    "id": "xbOaSxcfW4v_"
   },
   "outputs": [],
   "source": [
    "\n",
    "n_qubits =  8 # Number of qubits the state should be prepared on \n",
    "\n",
    "u_depth = 3 # Depth of U(\\theta)\n",
    "\n",
    "theta_tensor = np.random.uniform(-2 * np.pi, 2 * np.pi, (int(n_qubits/2), u_depth, 12)) # Initialize random values as parameters\n"
   ]
  },
  {
   "cell_type": "code",
   "execution_count": null,
   "metadata": {
    "id": "IyIItYKmW4v_"
   },
   "outputs": [],
   "source": [
    "ensemble = []\n",
    "p = np.array(list(range(1,3))) # Probability values 1/3 and 2/3\n",
    "p = p/sum(p)\n",
    "for i in range(2): # Generate two random ALA compatible states\n",
    "    answer_tensor = np.random.uniform(1, 2 * np.pi, (int(n_qubits/2), u_depth, 12))\n",
    "    state = np.array([1] + [0] * ((2 ** n_qubits) - 1))\n",
    "    state = u([(1,state)], answer_tensor, u_depth, n_qubits)[0][1]\n",
    "    ensemble.append((p[i], state))"
   ]
  },
  {
   "cell_type": "code",
   "execution_count": null,
   "metadata": {
    "id": "HlnJCa-mdW-o"
   },
   "outputs": [],
   "source": [
    "\n",
    "no_of_iter = 6000\n",
    "\n",
    "c_alpha = 0.3\n",
    "a_alpha = 0.3"
   ]
  },
  {
   "cell_type": "markdown",
   "metadata": {
    "id": "AQoydNs4W4v_"
   },
   "source": [
    "### ALSO"
   ]
  },
  {
   "cell_type": "code",
   "execution_count": null,
   "metadata": {
    "id": "GayhdR8rW4v_"
   },
   "outputs": [],
   "source": [
    "shadows = generate_shadows(ensemble, 500000, verbose = 1)\n",
    "shadows_prepped = prepping_shadows(shadows, u_depth, n_B = 4)\n"
   ]
  },
  {
   "cell_type": "code",
   "execution_count": null,
   "metadata": {
    "id": "6ChLpu9IW4v_"
   },
   "outputs": [],
   "source": [
    "# SImilar to the spp case. Only difference is n_B = 4.\n",
    "def also_8q_qa(ensemble, shadows_prepped, theta_tensor, u_depth, n_qubits, c_alpha, a_alpha, no_of_iter, n_B = 4, dtype='complex128', interval = 100):\n",
    "    iter_no = 1\n",
    "    cost_list = []\n",
    "    theta_list = []\n",
    "    list_of_qubits_to_act = generate_loqta(u_depth, n_qubits)\n",
    "    list_of_thetas = generate_obs_lotr(u_depth, n_qubits)\n",
    "    obs1 = np.array(np.kron(np.matrix([[1,0],[0,0]]), np.eye(2))).astype(dtype)\n",
    "    obs2 = np.array(np.kron(np.eye(2), np.matrix([[1,0],[0,0]]))).astype(dtype)\n",
    "    obs = [obs1, obs2]\n",
    "    while iter_no < no_of_iter + 1:\n",
    "\n",
    "        theta_tensor = single_spsa_update_also(shadows_prepped, list_of_thetas, theta_tensor, u_depth, n_qubits, obs, c_alpha, a_alpha, iter_no, n_B = n_B)\n",
    "        if iter_no % interval == 0:\n",
    "            print(\"Current iteration: {}\".format(iter_no))\n",
    "            cost = 1 - u_inverse_exp_val(ensemble, theta_tensor, u_depth, n_qubits, no_of_copies_per_eval = 0, n_B = 4)\n",
    "            print(\"Current cost: {}\".format(cost))\n",
    "            cost_list.append(cost)\n",
    "            theta_list.append(theta_tensor)\n",
    "        iter_no += 1\n",
    "    return cost_list, theta_list"
   ]
  },
  {
   "cell_type": "code",
   "execution_count": null,
   "metadata": {
    "id": "Ta90SKi7W4wA"
   },
   "outputs": [],
   "source": [
    "cost_list, theta_list = also_8q_qa(ensemble, shadows_prepped, theta_tensor, u_depth, n_qubits, c_alpha, a_alpha, no_of_iter, n_B = 4)"
   ]
  },
  {
   "cell_type": "code",
   "execution_count": null,
   "metadata": {
    "id": "e2a_Y5K6W4wA"
   },
   "outputs": [],
   "source": [
    "# Plot the results\n",
    "\n",
    "plt.figure(figsize=(12,6))\n",
    "plt.rcParams.update({'font.size': 20})\n",
    "\n",
    "plt.plot(list(range(1, len(cost_list) + 1)), cost_list)\n",
    "\n",
    "plt.yticks(np.arange(0,1.1,0.1))\n",
    "plt.legend(loc=\"lower right\")\n",
    "plt.xlabel(\"Iteration number\")\n",
    "plt.ylabel(\"Cost\")\n",
    "plt.show()"
   ]
  },
  {
   "cell_type": "markdown",
   "metadata": {
    "id": "WQaXjLauW4wA"
   },
   "source": [
    "### VQA"
   ]
  },
  {
   "cell_type": "code",
   "execution_count": null,
   "metadata": {
    "id": "ZwvlbGeZW4wA"
   },
   "outputs": [],
   "source": [
    "# SImilar to the spp case. Only difference is n_B = 4.\n",
    "def vqa_8q_qa(ensemble, theta_tensor, u_depth, n_qubits, c_alpha, a_alpha, no_of_iter, no_of_copies_per_eval = 0, n_B = 0, interval = 100, dtype='complex128'):\n",
    "    iter_no = 1\n",
    "    cost_list = []\n",
    "    theta_list = []\n",
    "    while iter_no < no_of_iter + 1:\n",
    "        theta_tensor = single_spsa_update_vqa(ensemble, theta_tensor, u_depth, n_qubits, c_alpha, a_alpha, iter_no, no_of_copies_per_eval = no_of_copies_per_eval, n_B=4)\n",
    "        if iter_no % interval == 0:\n",
    "            print(\"Current iteration: {}\".format(iter_no))\n",
    "            cost = 1 - u_inverse_exp_val(ensemble, theta_tensor, u_depth, n_qubits, no_of_copies_per_eval = 0, n_B = 4)\n",
    "            print(\"Current cost: {}\".format(cost))\n",
    "            cost_list.append(cost)\n",
    "            theta_list.append(theta_tensor)\n",
    "        iter_no += 1\n",
    "    return cost_list, theta_list"
   ]
  },
  {
   "cell_type": "code",
   "execution_count": null,
   "metadata": {
    "id": "e9mifbRKW4wA"
   },
   "outputs": [],
   "source": [
    "cost_list, theta_list = vqa_8q_qa(ensemble, theta_tensor, u_depth, n_qubits, c_alpha, a_alpha, no_of_iter, no_of_copies_per_eval = 0, n_B = 4)"
   ]
  },
  {
   "cell_type": "code",
   "execution_count": null,
   "metadata": {
    "id": "5Nk7o-zoW4wA"
   },
   "outputs": [],
   "source": [
    "# Plot the results\n",
    "\n",
    "plt.figure(figsize=(12,6))\n",
    "plt.rcParams.update({'font.size': 20})\n",
    "\n",
    "plt.plot(list(range(1, len(cost_list) + 1)), cost_list)\n",
    "\n",
    "plt.yticks(np.arange(0,0.6,0.1))\n",
    "plt.legend(loc=\"lower right\")\n",
    "plt.xlabel(\"Iteration number\")\n",
    "plt.ylabel(\"Cost\")\n",
    "plt.show()"
   ]
  },
  {
   "cell_type": "markdown",
   "metadata": {
    "id": "36dyZsBiW4wB"
   },
   "source": [
    "# 30 qubit"
   ]
  },
  {
   "cell_type": "markdown",
   "metadata": {
    "id": "T5R2Db1bW4wB"
   },
   "source": [
    "In this section, we provide code to implement ALSO and VQA on $30$ qubit SPP and QA problems."
   ]
  },
  {
   "cell_type": "markdown",
   "metadata": {
    "id": "js7Z168iW4wB"
   },
   "source": [
    "## SPP"
   ]
  },
  {
   "cell_type": "code",
   "execution_count": null,
   "metadata": {
    "id": "DBc-wRa0W4wB"
   },
   "outputs": [],
   "source": [
    "\n",
    "n_qubits = 30# Number of qubits the state should be prepared on \n",
    "\n",
    "u_depth = 4\n",
    "\n",
    "theta_tensor = np.random.uniform(-2 * np.pi, 2 * np.pi, (int(n_qubits/2), u_depth, 12)) # Initialize random values as parameter\n"
   ]
  },
  {
   "cell_type": "code",
   "execution_count": null,
   "metadata": {
    "id": "1_7vnN9AW4wB"
   },
   "outputs": [],
   "source": [
    "\n",
    "no_of_iter = 9000\n",
    "\n",
    "c_alpha = 0.5\n",
    "a_alpha = 0.5"
   ]
  },
  {
   "cell_type": "code",
   "execution_count": null,
   "metadata": {
    "id": "T_GsZvIIW4wB"
   },
   "outputs": [],
   "source": [
    "# Define the computational state as a bit string\n",
    "bit_string = []\n",
    "for i in range(n_qubits):\n",
    "    if i%3 == 0:\n",
    "        bit_string.append(1)\n",
    "    else:\n",
    "        bit_string.append(0)\n"
   ]
  },
  {
   "cell_type": "markdown",
   "metadata": {
    "id": "zqdhSFCfW4wB"
   },
   "source": [
    "### ALSO"
   ]
  },
  {
   "cell_type": "code",
   "execution_count": null,
   "metadata": {
    "id": "VtW_xFc2W4wC"
   },
   "outputs": [],
   "source": [
    "shadows = bit_string_shadows(bit_string, 500000)"
   ]
  },
  {
   "cell_type": "code",
   "execution_count": null,
   "metadata": {
    "id": "tE2IaA3cW4wC"
   },
   "outputs": [],
   "source": [
    "shadows_prepped = prepping_shadows(shadows, u_depth) # This process can take a few hours when T=500000. But it is a one-time cost. Once the reduced shadow states are loaded, we can carry out optimization in many different ways on the shadows_prepped itself."
   ]
  },
  {
   "cell_type": "code",
   "execution_count": null,
   "metadata": {
    "id": "-udpwupaW4wC"
   },
   "outputs": [],
   "source": [
    "# Similar function to the 8 qubit case. Only difference is instead of ensemble, we pass the bit string here.\n",
    "def also_30q_spp(shadows_prepped, theta_tensor, bit_string, u_depth, n_qubits, c_alpha, a_alpha, no_of_iter ,interval=10, dtype='complex128'):\n",
    "    iter_no = 1\n",
    "\n",
    "    infid_list = []\n",
    "    theta_list = []\n",
    "\n",
    "    list_of_thetas = generate_obs_lotr(u_depth, n_qubits)\n",
    "    obs1 = np.array(np.kron(np.matrix([[1,0],[0,0]]), np.eye(2))).astype(dtype)\n",
    "    obs2 = np.array(np.kron(np.eye(2), np.matrix([[1,0],[0,0]]))).astype(dtype)\n",
    "    obs = [obs1, obs2]\n",
    "    \n",
    "    while iter_no < no_of_iter + 1:    \n",
    "      theta_tensor = single_spsa_update_also(shadows_prepped, list_of_thetas, theta_tensor, u_depth, n_qubits, obs, c_alpha, a_alpha, iter_no, dtype = dtype)      \n",
    "      if iter_no % interval == 0:\n",
    "        print(\"Current iteration: {}\".format(iter_no))\n",
    "        infidelity = 1-fidelity_bs(bit_string, theta_tensor)\n",
    "        print(\"Current infidelity: {}\".format(infidelity))\n",
    "        theta_list.append(theta_tensor.flatten())\n",
    "      iter_no += 1\n",
    "    return infid_list, theta_list"
   ]
  },
  {
   "cell_type": "code",
   "execution_count": null,
   "metadata": {
    "id": "K3SJzvZ3W4wC"
   },
   "outputs": [],
   "source": [
    "infid_list, theta_list = also_30q_spp(shadows_prepped, theta_tensor, bit_string, u_depth, n_qubits, c_alpha, a_alpha, no_of_iter)"
   ]
  },
  {
   "cell_type": "code",
   "execution_count": null,
   "metadata": {
    "id": "-xAUFAi4W4wC"
   },
   "outputs": [],
   "source": [
    "# Plot the results\n",
    "\n",
    "plt.figure(figsize=(12,6))\n",
    "plt.rcParams.update({'font.size': 20})\n",
    "\n",
    "plt.plot(list(range(1, len(infid_list) + 1)), infid_list)\n",
    "\n",
    "plt.yticks(np.arange(0,1.1,0.1))\n",
    "plt.legend(loc=\"lower right\")\n",
    "plt.xlabel(\"Iteration number\")\n",
    "plt.ylabel(\"Infidelity\")\n",
    "plt.show()"
   ]
  },
  {
   "cell_type": "markdown",
   "metadata": {
    "id": "J8332ZsoW4wC"
   },
   "source": [
    "### VQA"
   ]
  },
  {
   "cell_type": "code",
   "execution_count": null,
   "metadata": {
    "id": "g7_EJp-wW4wC"
   },
   "outputs": [],
   "source": [
    "# Similar function to the 8 qubit case. Only difference is instead of ensemble, we pass the bit string here.\n",
    "def vqa_30q_spp(bit_string, theta_tensor, u_depth, c_alpha, a_alpha, no_of_iter, no_of_copies_per_eval = 0, interval=1000):\n",
    "    list_of_qubits_to_act = generate_loqta(u_depth, n_qubits)\n",
    "    list_of_thetas = generate_obs_lotr(u_depth, n_qubits)\n",
    "    prepped_bit_string_ensemble = [(1,bit_string_state_prepped(bit_string))]\n",
    "\n",
    "    iter_no = 1\n",
    "    infid_list = []\n",
    "    theta_list = []\n",
    "    while iter_no < no_of_iter + 1:\n",
    "\n",
    "      \n",
    "      theta_tensor = single_spsa_update_vqa_efficient(prepped_bit_string_ensemble, list_of_qubits_to_act, list_of_thetas, theta_tensor, u_depth, n_qubits, c_alpha, a_alpha, iter_no, no_of_copies_per_eval = no_of_copies_per_eval)\n",
    "      if iter_no % interval == 0:\n",
    "        print(\"Current iteration: {}\".format(iter_no))        \n",
    "        infidelity = 1-fidelity_bs(bit_string, theta_tensor)\n",
    "        print(\"Current infidelity: {}\".format(infidelity))\n",
    "        infid_list.append(infidelity)\n",
    "        theta_list.append(theta_tensor.flatten())\n",
    "      iter_no += 1\n",
    "\n",
    "\n",
    "    return infid_list, theta_list"
   ]
  },
  {
   "cell_type": "code",
   "execution_count": null,
   "metadata": {
    "id": "UvGHPULUW4wD",
    "scrolled": true
   },
   "outputs": [],
   "source": [
    "infid_list, theta_list = vqa_30q_spp(bit_string, theta_tensor, u_depth, c_alpha, a_alpha, no_of_iter, no_of_copies_per_eval = 10000)"
   ]
  },
  {
   "cell_type": "code",
   "execution_count": null,
   "metadata": {
    "id": "Wn99NzLvW4wD"
   },
   "outputs": [],
   "source": [
    "# Plot the results\n",
    "\n",
    "plt.figure(figsize=(12,6))\n",
    "plt.rcParams.update({'font.size': 20})\n",
    "\n",
    "plt.plot(list(range(1, len(infid_list) + 1)), infid_list)\n",
    "\n",
    "plt.yticks(np.arange(0,1.1,0.1))\n",
    "plt.legend(loc=\"lower right\")\n",
    "plt.xlabel(\"Iteration number\")\n",
    "plt.ylabel(\"Infidelity\")\n",
    "plt.show()"
   ]
  },
  {
   "cell_type": "markdown",
   "metadata": {
    "id": "C3oU8HuPW4wD"
   },
   "source": [
    "## QA"
   ]
  },
  {
   "cell_type": "code",
   "execution_count": null,
   "metadata": {
    "id": "Y9xzKFnFW4wD"
   },
   "outputs": [],
   "source": [
    "\n",
    "n_qubits = 30# Number of qubits the state should be prepared on \n",
    "\n",
    "u_depth = 4\n",
    "\n",
    "theta_tensor = np.random.uniform(-2 * np.pi, 2 * np.pi, (int(n_qubits/2), u_depth, 12)) # Initialize random values as parameters\n",
    "\n",
    "\n"
   ]
  },
  {
   "cell_type": "code",
   "execution_count": null,
   "metadata": {
    "id": "nTKJJUz6W4wD"
   },
   "outputs": [],
   "source": [
    "\n",
    "no_of_iter = 9000\n",
    "\n",
    "c_alpha = 0.5\n",
    "a_alpha = 0.5"
   ]
  },
  {
   "cell_type": "code",
   "execution_count": null,
   "metadata": {
    "id": "oGHp1XGqW4wD"
   },
   "outputs": [],
   "source": [
    "# Define two computational state as a bit string\n",
    "bit_string1 = []\n",
    "for i in range(n_qubits):\n",
    "    if i%3 == 0:\n",
    "        bit_string1.append(1)\n",
    "    else:\n",
    "        bit_string1.append(0)\n",
    "\n",
    "bit_string2 = []\n",
    "for i in range(n_qubits):\n",
    "    if (i+1)%3 == 0:\n",
    "        bit_string2.append(1)\n",
    "    else:\n",
    "        bit_string2.append(0)\n",
    "\n",
    "\n",
    "prepped_bit_string_ensemble = [(1/3,bit_string_state_prepped(bit_string1)), (2/3,bit_string_state_prepped(bit_string2))] # Creates an ensemble of data structres capable of simulating large ALA circuits acting on computational basis states efficiently"
   ]
  },
  {
   "cell_type": "markdown",
   "metadata": {
    "id": "gq6zfte4W4wE"
   },
   "source": [
    "### ALSO"
   ]
  },
  {
   "cell_type": "code",
   "execution_count": null,
   "metadata": {
    "id": "hamJzCOdW4wE"
   },
   "outputs": [],
   "source": [
    "shadows1 = bit_string_shadows(bit_string1, 500000)\n",
    "shadows2 = bit_string_shadows(bit_string2, 500000)"
   ]
  },
  {
   "cell_type": "code",
   "execution_count": null,
   "metadata": {
    "id": "GkLreidnW4wE"
   },
   "outputs": [],
   "source": [
    "shadows_prepped = prepping_shadows_30q_qae([shadows1, shadows2], u_depth, n_B = 10) # Note that reduced shadow states are computed using here. # This process can take a few hours when T=500000. But it is a one-time cost. Once the reduced shadow states are loaded, we can carry out optimization in many different ways on the shadows_prepped itself."
   ]
  },
  {
   "cell_type": "code",
   "execution_count": null,
   "metadata": {
    "id": "yj9MfrBoW4wE"
   },
   "outputs": [],
   "source": [
    "# Similar function to the 8 qubit case. Only difference is instead of ensemble, we pass prepped_bit_string_ensemble here.\n",
    "\n",
    "def also_30q_qa(prepped_bit_string_ensemble, shadows_prepped, theta_tensor, u_depth, n_qubits, c_alpha, a_alpha, no_of_iter, n_B = 10, interval = 100, dtype='complex128'):\n",
    "    list_of_qubits_to_act = generate_loqta(u_depth, n_qubits)\n",
    "    list_of_thetas = generate_obs_lotr(u_depth, n_qubits)\n",
    "    obs1 = np.array(np.kron(np.matrix([[1,0],[0,0]]), np.eye(2))).astype(dtype)\n",
    "    obs2 = np.array(np.kron(np.eye(2), np.matrix([[1,0],[0,0]]))).astype(dtype)\n",
    "    obs = [obs1, obs2]\n",
    "    iter_no = 1\n",
    "    cost_list = []\n",
    "    theta_list = []\n",
    "    \n",
    "    while iter_no < no_of_iter + 1:  \n",
    "      theta_tensor = single_spsa_update_also(shadows_prepped, list_of_thetas, theta_tensor, u_depth, n_qubits, obs, c_alpha, a_alpha, iter_no, dtype = dtype, n_B=10)\n",
    "      if iter_no % interval == 0:\n",
    "          print(\"Current iteration: {}\".format(iter_no))\n",
    "          cost = 1-u_inverse_exp_val_efficient(prepped_bit_string_ensemble, list_of_qubits_to_act, list_of_thetas, theta_tensor, u_depth, n_qubits, no_of_copies_per_eval = 0, n_B = 10)\n",
    "          print(\"Current cost: {}\".format(cost))\n",
    "          cost_list.append(cost)\n",
    "          theta_list.append(theta_tensor.flatten())\n",
    "      iter_no += 1\n",
    "    return cost_list, theta_list"
   ]
  },
  {
   "cell_type": "code",
   "execution_count": null,
   "metadata": {
    "id": "c7hjnwuhW4wE"
   },
   "outputs": [],
   "source": [
    "cost_list, theta_list = also_30q_qa(prepped_bit_string_ensemble, shadows_prepped, theta_tensor, u_depth, n_qubits, c_alpha, a_alpha, no_of_iter, n_B = 10)"
   ]
  },
  {
   "cell_type": "code",
   "execution_count": null,
   "metadata": {
    "id": "EenuSx_yW4wE"
   },
   "outputs": [],
   "source": [
    "# Plot the results\n",
    "\n",
    "plt.figure(figsize=(12,6))\n",
    "plt.rcParams.update({'font.size': 20})\n",
    "\n",
    "plt.plot(list(range(1, len(cost_list) + 1)), cost_list)\n",
    "\n",
    "plt.yticks(np.arange(0,0.6,0.1))\n",
    "plt.legend(loc=\"lower right\")\n",
    "plt.xlabel(\"Iteration number\")\n",
    "plt.ylabel(\"Cost\")\n",
    "plt.show()"
   ]
  },
  {
   "cell_type": "markdown",
   "metadata": {
    "id": "Y0lhj0JwW4wF"
   },
   "source": [
    "### VQA"
   ]
  },
  {
   "cell_type": "code",
   "execution_count": null,
   "metadata": {
    "id": "2Um1pI-wW4wF"
   },
   "outputs": [],
   "source": [
    "# Similar function to the 8 qubit case. Only difference is instead of ensemble, we pass prepped_bit_string_ensemble here.\n",
    "\n",
    "def vqa_30q_qa(prepped_bit_string_ensemble, theta_tensor, u_depth, n_qubits, c_alpha, a_alpha, no_of_iter, no_of_copies_per_eval = 0, n_B = 10, dtype='complex128',interval=100):\n",
    "    list_of_qubits_to_act = generate_loqta(u_depth, n_qubits)\n",
    "    list_of_thetas = generate_obs_lotr(u_depth, n_qubits)\n",
    "    iter_no = 1\n",
    "    cost_list = []\n",
    "    theta_list = []\n",
    "\n",
    "    while iter_no < no_of_iter + 1:\n",
    "      theta_tensor = single_spsa_update_vqa_efficient(prepped_bit_string_ensemble, list_of_qubits_to_act, list_of_thetas, theta_tensor, u_depth, n_qubits, c_alpha, a_alpha, iter_no, no_of_copies_per_eval = no_of_copies_per_eval, n_B = n_B)\n",
    "      if iter_no % interval == 0:\n",
    "        print(\"Current iteration: {}\".format(iter_no))\n",
    "        cost = 1-u_inverse_exp_val_efficient(prepped_bit_string_ensemble, list_of_qubits_to_act, list_of_thetas, theta_tensor, u_depth, n_qubits, no_of_copies_per_eval = 0, n_B = n_B)\n",
    "        print(\"Current cost: {}\".format(cost))\n",
    "        cost_list.append(cost)\n",
    "        theta_list.append(theta_tensor.flatten())\n",
    "      iter_no += 1\n",
    "\n",
    "    return cost_list, theta_list"
   ]
  },
  {
   "cell_type": "code",
   "execution_count": null,
   "metadata": {
    "id": "6FAikGArW4wF"
   },
   "outputs": [],
   "source": [
    "cost_list, theta_list = vqa_30q_qa(prepped_bit_string_ensemble, theta_tensor, u_depth, n_qubits, c_alpha, a_alpha, no_of_iter, no_of_copies_per_eval = 0, n_B = 10, dtype='complex128',interval=100)"
   ]
  },
  {
   "cell_type": "code",
   "execution_count": null,
   "metadata": {
    "id": "yqWylXMQW4wF"
   },
   "outputs": [],
   "source": [
    "# Plot the results\n",
    "\n",
    "plt.figure(figsize=(12,6))\n",
    "plt.rcParams.update({'font.size': 20})\n",
    "\n",
    "plt.plot(list(range(1, len(cost_list) + 1)), cost_list)\n",
    "\n",
    "plt.yticks(np.arange(0,0.6,0.1))\n",
    "plt.legend(loc=\"lower right\")\n",
    "plt.xlabel(\"Iteration number\")\n",
    "plt.ylabel(\"Cost\")\n",
    "plt.show()"
   ]
  },
  {
   "cell_type": "markdown",
   "metadata": {
    "id": "EACb_Nr_W4wF"
   },
   "source": [
    "# Powell's method"
   ]
  },
  {
   "cell_type": "markdown",
   "metadata": {
    "id": "uezaf0i5W4wF"
   },
   "source": [
    "## SPP"
   ]
  },
  {
   "cell_type": "code",
   "execution_count": null,
   "metadata": {
    "id": "GI4YNYEoW4wF"
   },
   "outputs": [],
   "source": [
    "n_qubits =  8 # Number of qubits the state should be prepared on \n",
    "\n",
    "s_depth = 1\n",
    "u_depth = 3\n",
    "\n",
    "answer_tensor = np.random.uniform(1, 2 * np.pi, (int(n_qubits/2), u_depth, 12 * s_depth))\n",
    "theta_tensor = np.random.uniform(-2 * np.pi, 2 * np.pi, (int(n_qubits/2), u_depth, 12 * s_depth)) # Initialize random values as parameters\n",
    "\n",
    "state = np.array([1] + [0] * ((2 ** n_qubits) - 1))\n",
    "ensemble = [(1, state)]\n",
    "ensemble = u(ensemble, answer_tensor, u_depth, n_qubits)"
   ]
  },
  {
   "cell_type": "markdown",
   "metadata": {
    "id": "4X4tsSBMW4wF"
   },
   "source": [
    "### ALSO"
   ]
  },
  {
   "cell_type": "code",
   "execution_count": null,
   "metadata": {
    "id": "-pr1CyQYW4wG"
   },
   "outputs": [],
   "source": [
    "list_of_thetas = generate_obs_lotr(u_depth, n_qubits)\n",
    "obs1 = np.array(np.kron(np.matrix([[1,0],[0,0]]), np.eye(2))).astype(dtype)\n",
    "obs2 = np.array(np.kron(np.eye(2), np.matrix([[1,0],[0,0]]))).astype(dtype)\n",
    "obs = [obs1, obs2]"
   ]
  },
  {
   "cell_type": "code",
   "execution_count": null,
   "metadata": {
    "id": "IAEEY99cW4wG"
   },
   "outputs": [],
   "source": [
    "shadows = generate_shadows(ensemble, 500000, verbose = 1)\n",
    "shadows_prepped = prepping_shadows(shadows, u_depth)"
   ]
  },
  {
   "cell_type": "code",
   "execution_count": null,
   "metadata": {
    "id": "3VqC-UvPW4wG"
   },
   "outputs": [],
   "source": [
    "# Our objective function is wrapped in this function so that it can be passed to scipy.minimize\n",
    "def passable_function(theta):\n",
    "  theta_reshaped = np.reshape(theta, (int(n_qubits/2), u_depth, 12))\n",
    "  val = also_feval(shadows_prepped, list_of_thetas, theta_tensor, u_depth, n_qubits, obs)\n",
    "  print(\"Current value: {}\".format(val))\n",
    "  return -val"
   ]
  },
  {
   "cell_type": "code",
   "execution_count": null,
   "metadata": {
    "id": "176bErnLW4wG"
   },
   "outputs": [],
   "source": [
    "\n",
    "ans = minimize(fun = passable_function, x0 = theta_tensor, method='Powell')"
   ]
  },
  {
   "cell_type": "markdown",
   "metadata": {
    "id": "L53KHhDqW4wG"
   },
   "source": [
    "### VQA"
   ]
  },
  {
   "cell_type": "code",
   "execution_count": null,
   "metadata": {
    "id": "LNII6AguW4wG"
   },
   "outputs": [],
   "source": [
    "# Our objective function is wrapped in this function so that it can be passed to scipy.minimize\n",
    "no_of_copies_per_eval = 100000 # Measurement shots/number of copies per function evaluation\n",
    "def passable_function(theta):\n",
    "  theta_reshaped = np.reshape(theta, (int(n_qubits/2), u_depth, 12 * s_depth))\n",
    "  val = u_inverse_exp_val(ensemble, theta, u_depth, n_qubits, no_of_copies_per_eval = no_of_copies_per_eval)\n",
    "  print(\"Current value: {}\".format(val))\n",
    "  return -val"
   ]
  },
  {
   "cell_type": "code",
   "execution_count": null,
   "metadata": {
    "id": "CyScs7yKW4wG"
   },
   "outputs": [],
   "source": [
    "\n",
    "ans = minimize(fun = passable_function, x0 = theta_tensor, method='Powell', options = {'maxfev':50000})"
   ]
  },
  {
   "cell_type": "markdown",
   "metadata": {
    "id": "YJ4x9ciDW4wG"
   },
   "source": [
    "## QA"
   ]
  },
  {
   "cell_type": "code",
   "execution_count": null,
   "metadata": {
    "id": "cBLs230QW4wG"
   },
   "outputs": [],
   "source": [
    "\n",
    "n_qubits =  8# Number of qubits the state should be prepared on \n",
    "\n",
    "s_depth = 1\n",
    "u_depth = 3\n",
    "\n",
    "theta_tensor = np.random.uniform(-2 * np.pi, 2 * np.pi, (int(n_qubits/2), u_depth, 12)) # Initialize random values as parameters\n",
    "\n",
    "ensemble = []\n",
    "p = np.array(list(range(1,3)))\n",
    "p = p/sum(p)\n",
    "for i in range(2):\n",
    "    state = np.array([1] + [0] * ((2 ** n_qubits) - 1))\n",
    "    state = u([(1,state)], answer_tensor, u_depth, n_qubits)[0][1]\n",
    "    ensemble.append((p[i], state))\n",
    "    \n"
   ]
  },
  {
   "cell_type": "markdown",
   "metadata": {
    "heading_collapsed": true,
    "id": "Z5YvhfMTW4wH"
   },
   "source": [
    "### ALSO"
   ]
  },
  {
   "cell_type": "code",
   "execution_count": null,
   "metadata": {
    "hidden": true,
    "id": "LZllI9UBW4wH"
   },
   "outputs": [],
   "source": [
    "shadows = generate_shadows(ensemble, 500000, verbose = 1)\n",
    "shadows_prepped = prepping_shadows(shadows, u_depth, n_B = 4)\n"
   ]
  },
  {
   "cell_type": "code",
   "execution_count": null,
   "metadata": {
    "hidden": true,
    "id": "2Dq7RwwIW4wH"
   },
   "outputs": [],
   "source": [
    "# Our objective function is wrapped in this function so that it can be passed to scipy.minimize\n",
    "def passable_function(theta):\n",
    "  theta_reshaped = np.reshape(theta, (int(n_qubits/2), u_depth, 12))\n",
    "  val = also_feval(shadows_prepped, list_of_thetas, theta_tensor, u_depth, n_qubits, obs, n_B=4)\n",
    "  print(\"Current value: {}\".format(val))\n",
    "  return -val"
   ]
  },
  {
   "cell_type": "code",
   "execution_count": null,
   "metadata": {
    "hidden": true,
    "id": "w1-gCiWgW4wH"
   },
   "outputs": [],
   "source": [
    "\n",
    "ans = minimize(fun = passable_function, x0 = theta_tensor, method='Powell')"
   ]
  },
  {
   "cell_type": "markdown",
   "metadata": {
    "id": "XBVNhxQcW4wH"
   },
   "source": [
    "### VQA"
   ]
  },
  {
   "cell_type": "code",
   "execution_count": null,
   "metadata": {
    "id": "cPZNaludW4wH"
   },
   "outputs": [],
   "source": [
    "# Our objective function is wrapped in this function so that it can be passed to scipy.minimize\n",
    "\n",
    "no_of_copies_per_eval = 100000 # Measurement shots/number of copies per function evaluation\n",
    "def passable_function(theta):\n",
    "  theta_reshaped = np.reshape(theta, (int(n_qubits/2), u_depth, 12 * s_depth))\n",
    "  val = u_inverse_exp_val(ensemble, theta, u_depth, n_qubits, no_of_copies_per_eval = no_of_copies_per_eval, n_B = 4)\n",
    "  print(\"Current value: {}\".format(val))\n",
    "  return -val"
   ]
  },
  {
   "cell_type": "code",
   "execution_count": null,
   "metadata": {
    "id": "NAb1XllEW4wH"
   },
   "outputs": [],
   "source": [
    "\n",
    "ans = minimize(fun = passable_function, x0 = theta_tensor, method='Powell', options = {'maxfev':50000})"
   ]
  }
 ],
 "metadata": {
  "colab": {
   "collapsed_sections": [],
   "name": "AlternatingLayeredShadowOptimization_code.ipynb",
   "provenance": []
  },
  "kernelspec": {
   "display_name": "Python 3 (ipykernel)",
   "language": "python",
   "name": "python3"
  },
  "language_info": {
   "codemirror_mode": {
    "name": "ipython",
    "version": 3
   },
   "file_extension": ".py",
   "mimetype": "text/x-python",
   "name": "python",
   "nbconvert_exporter": "python",
   "pygments_lexer": "ipython3",
   "version": "3.9.7"
  }
 },
 "nbformat": 4,
 "nbformat_minor": 1
}
